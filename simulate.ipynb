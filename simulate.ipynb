{
 "cells": [
  {
   "cell_type": "code",
   "execution_count": 10,
   "metadata": {},
   "outputs": [
    {
     "data": {
      "text/html": [
       "<div><style>\n",
       ".dataframe > thead > tr,\n",
       ".dataframe > tbody > tr {\n",
       "  text-align: right;\n",
       "  white-space: pre-wrap;\n",
       "}\n",
       "</style>\n",
       "<small>shape: (5, 16)</small><table border=\"1\" class=\"dataframe\"><thead><tr><th>year</th><th>gender</th><th>age</th><th>location</th><th>race_ethnicity</th><th>race:Asian</th><th>race:Caucasian</th><th>race:Hispanic</th><th>race:Other</th><th>health_issues</th><th>heart_disease</th><th>smoking_history</th><th>bmi</th><th>hbA1c_level</th><th>blood_glucose_level</th><th>diabetes</th></tr><tr><td>i64</td><td>str</td><td>f64</td><td>str</td><td>i64</td><td>i64</td><td>i64</td><td>i64</td><td>i64</td><td>i64</td><td>i64</td><td>str</td><td>f64</td><td>f64</td><td>i64</td><td>i64</td></tr></thead><tbody><tr><td>2020</td><td>&quot;Female&quot;</td><td>32.0</td><td>&quot;Alabama&quot;</td><td>0</td><td>0</td><td>0</td><td>0</td><td>1</td><td>0</td><td>0</td><td>&quot;never&quot;</td><td>27.32</td><td>5.0</td><td>100</td><td>0</td></tr><tr><td>2015</td><td>&quot;Female&quot;</td><td>29.0</td><td>&quot;Alabama&quot;</td><td>0</td><td>1</td><td>0</td><td>0</td><td>0</td><td>0</td><td>0</td><td>&quot;never&quot;</td><td>19.95</td><td>5.0</td><td>90</td><td>0</td></tr><tr><td>2015</td><td>&quot;Male&quot;</td><td>18.0</td><td>&quot;Alabama&quot;</td><td>0</td><td>0</td><td>0</td><td>0</td><td>1</td><td>0</td><td>0</td><td>&quot;never&quot;</td><td>23.76</td><td>4.8</td><td>160</td><td>0</td></tr><tr><td>2015</td><td>&quot;Male&quot;</td><td>41.0</td><td>&quot;Alabama&quot;</td><td>0</td><td>0</td><td>1</td><td>0</td><td>0</td><td>0</td><td>0</td><td>&quot;never&quot;</td><td>27.32</td><td>4.0</td><td>159</td><td>0</td></tr><tr><td>2016</td><td>&quot;Female&quot;</td><td>52.0</td><td>&quot;Alabama&quot;</td><td>1</td><td>0</td><td>0</td><td>0</td><td>0</td><td>0</td><td>0</td><td>&quot;never&quot;</td><td>23.75</td><td>6.5</td><td>90</td><td>0</td></tr></tbody></table></div>"
      ],
      "text/plain": [
       "shape: (5, 16)\n",
       "┌──────┬────────┬──────┬──────────┬───┬───────┬─────────────┬─────────────────────┬──────────┐\n",
       "│ year ┆ gender ┆ age  ┆ location ┆ … ┆ bmi   ┆ hbA1c_level ┆ blood_glucose_level ┆ diabetes │\n",
       "│ ---  ┆ ---    ┆ ---  ┆ ---      ┆   ┆ ---   ┆ ---         ┆ ---                 ┆ ---      │\n",
       "│ i64  ┆ str    ┆ f64  ┆ str      ┆   ┆ f64   ┆ f64         ┆ i64                 ┆ i64      │\n",
       "╞══════╪════════╪══════╪══════════╪═══╪═══════╪═════════════╪═════════════════════╪══════════╡\n",
       "│ 2020 ┆ Female ┆ 32.0 ┆ Alabama  ┆ … ┆ 27.32 ┆ 5.0         ┆ 100                 ┆ 0        │\n",
       "│ 2015 ┆ Female ┆ 29.0 ┆ Alabama  ┆ … ┆ 19.95 ┆ 5.0         ┆ 90                  ┆ 0        │\n",
       "│ 2015 ┆ Male   ┆ 18.0 ┆ Alabama  ┆ … ┆ 23.76 ┆ 4.8         ┆ 160                 ┆ 0        │\n",
       "│ 2015 ┆ Male   ┆ 41.0 ┆ Alabama  ┆ … ┆ 27.32 ┆ 4.0         ┆ 159                 ┆ 0        │\n",
       "│ 2016 ┆ Female ┆ 52.0 ┆ Alabama  ┆ … ┆ 23.75 ┆ 6.5         ┆ 90                  ┆ 0        │\n",
       "└──────┴────────┴──────┴──────────┴───┴───────┴─────────────┴─────────────────────┴──────────┘"
      ]
     },
     "execution_count": 10,
     "metadata": {},
     "output_type": "execute_result"
    }
   ],
   "source": [
    "import polars as pl\n",
    "import json\n",
    "\n",
    "# Load JSON mapping\n",
    "column_mapping = {\n",
    "  \"age\": [\"Age\", \"age\", \"dob\"],\n",
    "  \"gender\": [\"Gender\", \"sex\", \"Sex\"],\n",
    "  \"race_ethnicity\": [\"Race\", \"Ethnicity\", \"race_ethnicity\", \"race\", \"race:AfricanAmerican\", \"race:Asian\", \"race:Caucasian\", \"race:Hispanic\", \"race:Other\"],\n",
    "  \"region\": [\"Location\", \"region\", \"Region\"],\n",
    "  \"health_issues\": [\"Conditions\", \"health_conditions\", \"Issues\", \"hypertension\", \"heart_disease\"]\n",
    "}\n",
    "\n",
    "# Load your dataset\n",
    "df = pl.read_csv('diabetes_dataset.csv')\n",
    "\n",
    "# Function to rename columns based on mapping\n",
    "def normalize_columns(df, mapping):\n",
    "    for standard_name, possible_names in mapping.items():\n",
    "        for col in possible_names:\n",
    "            if col in df.columns:\n",
    "                df = df.rename({col: standard_name})\n",
    "                break\n",
    "    return df\n",
    "\n",
    "# Apply the normalization\n",
    "df_normalized = normalize_columns(df, column_mapping)\n",
    "\n",
    "# Display normalized DataFrame\n",
    "df_normalized.head()"
   ]
  },
  {
   "cell_type": "code",
   "execution_count": 11,
   "metadata": {},
   "outputs": [
    {
     "ename": "KeyError",
     "evalue": "'region'",
     "output_type": "error",
     "traceback": [
      "\u001b[1;31m---------------------------------------------------------------------------\u001b[0m",
      "\u001b[1;31mKeyError\u001b[0m                                  Traceback (most recent call last)",
      "File \u001b[1;32mc:\\Users\\dsshi\\AppData\\Local\\Programs\\Python\\Python311\\Lib\\site-packages\\pandas\\core\\indexes\\base.py:3652\u001b[0m, in \u001b[0;36mIndex.get_loc\u001b[1;34m(self, key)\u001b[0m\n\u001b[0;32m   3651\u001b[0m \u001b[38;5;28;01mtry\u001b[39;00m:\n\u001b[1;32m-> 3652\u001b[0m     \u001b[38;5;28;01mreturn\u001b[39;00m \u001b[38;5;28;43mself\u001b[39;49m\u001b[38;5;241;43m.\u001b[39;49m\u001b[43m_engine\u001b[49m\u001b[38;5;241;43m.\u001b[39;49m\u001b[43mget_loc\u001b[49m\u001b[43m(\u001b[49m\u001b[43mcasted_key\u001b[49m\u001b[43m)\u001b[49m\n\u001b[0;32m   3653\u001b[0m \u001b[38;5;28;01mexcept\u001b[39;00m \u001b[38;5;167;01mKeyError\u001b[39;00m \u001b[38;5;28;01mas\u001b[39;00m err:\n",
      "File \u001b[1;32mc:\\Users\\dsshi\\AppData\\Local\\Programs\\Python\\Python311\\Lib\\site-packages\\pandas\\_libs\\index.pyx:147\u001b[0m, in \u001b[0;36mpandas._libs.index.IndexEngine.get_loc\u001b[1;34m()\u001b[0m\n",
      "File \u001b[1;32mc:\\Users\\dsshi\\AppData\\Local\\Programs\\Python\\Python311\\Lib\\site-packages\\pandas\\_libs\\index.pyx:176\u001b[0m, in \u001b[0;36mpandas._libs.index.IndexEngine.get_loc\u001b[1;34m()\u001b[0m\n",
      "File \u001b[1;32mpandas\\_libs\\hashtable_class_helper.pxi:7080\u001b[0m, in \u001b[0;36mpandas._libs.hashtable.PyObjectHashTable.get_item\u001b[1;34m()\u001b[0m\n",
      "File \u001b[1;32mpandas\\_libs\\hashtable_class_helper.pxi:7088\u001b[0m, in \u001b[0;36mpandas._libs.hashtable.PyObjectHashTable.get_item\u001b[1;34m()\u001b[0m\n",
      "\u001b[1;31mKeyError\u001b[0m: 'region'",
      "\nThe above exception was the direct cause of the following exception:\n",
      "\u001b[1;31mKeyError\u001b[0m                                  Traceback (most recent call last)",
      "Cell \u001b[1;32mIn[11], line 65\u001b[0m\n\u001b[0;32m     62\u001b[0m \u001b[38;5;66;03m# Convert Polars DataFrame to Pandas for compatibility with Mesa\u001b[39;00m\n\u001b[0;32m     63\u001b[0m df_normalized_pd \u001b[38;5;241m=\u001b[39m df_normalized\u001b[38;5;241m.\u001b[39mto_pandas()\n\u001b[1;32m---> 65\u001b[0m simulation_results \u001b[38;5;241m=\u001b[39m \u001b[43mrun_simulations\u001b[49m\u001b[43m(\u001b[49m\u001b[43mdf_normalized_pd\u001b[49m\u001b[43m,\u001b[49m\u001b[43m \u001b[49m\u001b[43mconsent_rate_min\u001b[49m\u001b[43m,\u001b[49m\u001b[43m \u001b[49m\u001b[43mconsent_rate_max\u001b[49m\u001b[43m,\u001b[49m\u001b[43m \u001b[49m\u001b[43mnum_simulations\u001b[49m\u001b[43m)\u001b[49m\n\u001b[0;32m     67\u001b[0m \u001b[38;5;66;03m# Display results\u001b[39;00m\n\u001b[0;32m     68\u001b[0m \u001b[38;5;28mprint\u001b[39m(\u001b[38;5;124mf\u001b[39m\u001b[38;5;124m\"\u001b[39m\u001b[38;5;124mMean Consent: \u001b[39m\u001b[38;5;132;01m{\u001b[39;00msimulation_results[\u001b[38;5;124m'\u001b[39m\u001b[38;5;124mmean_consent\u001b[39m\u001b[38;5;124m'\u001b[39m]\u001b[38;5;132;01m}\u001b[39;00m\u001b[38;5;124m\"\u001b[39m)\n",
      "Cell \u001b[1;32mIn[11], line 41\u001b[0m, in \u001b[0;36mrun_simulations\u001b[1;34m(df, consent_rate_min, consent_rate_max, num_simulations)\u001b[0m\n\u001b[0;32m     39\u001b[0m consent_results \u001b[38;5;241m=\u001b[39m []\n\u001b[0;32m     40\u001b[0m \u001b[38;5;28;01mfor\u001b[39;00m _ \u001b[38;5;129;01min\u001b[39;00m \u001b[38;5;28mrange\u001b[39m(num_simulations):\n\u001b[1;32m---> 41\u001b[0m     model \u001b[38;5;241m=\u001b[39m \u001b[43mRecruitmentModel\u001b[49m\u001b[43m(\u001b[49m\u001b[43mdf\u001b[49m\u001b[43m,\u001b[49m\u001b[43m \u001b[49m\u001b[43mconsent_rate_min\u001b[49m\u001b[43m,\u001b[49m\u001b[43m \u001b[49m\u001b[43mconsent_rate_max\u001b[49m\u001b[43m)\u001b[49m\n\u001b[0;32m     42\u001b[0m     \u001b[38;5;28;01mfor\u001b[39;00m _ \u001b[38;5;129;01min\u001b[39;00m \u001b[38;5;28mrange\u001b[39m(\u001b[38;5;241m1\u001b[39m):  \u001b[38;5;66;03m# Run for 1 step (as we only need to determine consent)\u001b[39;00m\n\u001b[0;32m     43\u001b[0m         model\u001b[38;5;241m.\u001b[39mstep()\n",
      "Cell \u001b[1;32mIn[11], line 31\u001b[0m, in \u001b[0;36mRecruitmentModel.__init__\u001b[1;34m(self, df, consent_rate_min, consent_rate_max)\u001b[0m\n\u001b[0;32m     29\u001b[0m \u001b[38;5;66;03m# Create agents based on the DataFrame\u001b[39;00m\n\u001b[0;32m     30\u001b[0m \u001b[38;5;28;01mfor\u001b[39;00m i, row \u001b[38;5;129;01min\u001b[39;00m df\u001b[38;5;241m.\u001b[39miterrows():\n\u001b[1;32m---> 31\u001b[0m     agent \u001b[38;5;241m=\u001b[39m PatientAgent(i, \u001b[38;5;28mself\u001b[39m, row[\u001b[38;5;124m'\u001b[39m\u001b[38;5;124mage\u001b[39m\u001b[38;5;124m'\u001b[39m], row[\u001b[38;5;124m'\u001b[39m\u001b[38;5;124mgender\u001b[39m\u001b[38;5;124m'\u001b[39m], row[\u001b[38;5;124m'\u001b[39m\u001b[38;5;124mrace_ethnicity\u001b[39m\u001b[38;5;124m'\u001b[39m], \u001b[43mrow\u001b[49m\u001b[43m[\u001b[49m\u001b[38;5;124;43m'\u001b[39;49m\u001b[38;5;124;43mregion\u001b[39;49m\u001b[38;5;124;43m'\u001b[39;49m\u001b[43m]\u001b[49m, row[\u001b[38;5;124m'\u001b[39m\u001b[38;5;124mhealth_issues\u001b[39m\u001b[38;5;124m'\u001b[39m])\n\u001b[0;32m     32\u001b[0m     \u001b[38;5;28mself\u001b[39m\u001b[38;5;241m.\u001b[39mschedule\u001b[38;5;241m.\u001b[39madd(agent)\n",
      "File \u001b[1;32mc:\\Users\\dsshi\\AppData\\Local\\Programs\\Python\\Python311\\Lib\\site-packages\\pandas\\core\\series.py:1012\u001b[0m, in \u001b[0;36mSeries.__getitem__\u001b[1;34m(self, key)\u001b[0m\n\u001b[0;32m   1009\u001b[0m     \u001b[38;5;28;01mreturn\u001b[39;00m \u001b[38;5;28mself\u001b[39m\u001b[38;5;241m.\u001b[39m_values[key]\n\u001b[0;32m   1011\u001b[0m \u001b[38;5;28;01melif\u001b[39;00m key_is_scalar:\n\u001b[1;32m-> 1012\u001b[0m     \u001b[38;5;28;01mreturn\u001b[39;00m \u001b[38;5;28;43mself\u001b[39;49m\u001b[38;5;241;43m.\u001b[39;49m\u001b[43m_get_value\u001b[49m\u001b[43m(\u001b[49m\u001b[43mkey\u001b[49m\u001b[43m)\u001b[49m\n\u001b[0;32m   1014\u001b[0m \u001b[38;5;28;01mif\u001b[39;00m is_hashable(key):\n\u001b[0;32m   1015\u001b[0m     \u001b[38;5;66;03m# Otherwise index.get_value will raise InvalidIndexError\u001b[39;00m\n\u001b[0;32m   1016\u001b[0m     \u001b[38;5;28;01mtry\u001b[39;00m:\n\u001b[0;32m   1017\u001b[0m         \u001b[38;5;66;03m# For labels that don't resolve as scalars like tuples and frozensets\u001b[39;00m\n",
      "File \u001b[1;32mc:\\Users\\dsshi\\AppData\\Local\\Programs\\Python\\Python311\\Lib\\site-packages\\pandas\\core\\series.py:1121\u001b[0m, in \u001b[0;36mSeries._get_value\u001b[1;34m(self, label, takeable)\u001b[0m\n\u001b[0;32m   1118\u001b[0m     \u001b[38;5;28;01mreturn\u001b[39;00m \u001b[38;5;28mself\u001b[39m\u001b[38;5;241m.\u001b[39m_values[label]\n\u001b[0;32m   1120\u001b[0m \u001b[38;5;66;03m# Similar to Index.get_value, but we do not fall back to positional\u001b[39;00m\n\u001b[1;32m-> 1121\u001b[0m loc \u001b[38;5;241m=\u001b[39m \u001b[38;5;28;43mself\u001b[39;49m\u001b[38;5;241;43m.\u001b[39;49m\u001b[43mindex\u001b[49m\u001b[38;5;241;43m.\u001b[39;49m\u001b[43mget_loc\u001b[49m\u001b[43m(\u001b[49m\u001b[43mlabel\u001b[49m\u001b[43m)\u001b[49m\n\u001b[0;32m   1123\u001b[0m \u001b[38;5;28;01mif\u001b[39;00m is_integer(loc):\n\u001b[0;32m   1124\u001b[0m     \u001b[38;5;28;01mreturn\u001b[39;00m \u001b[38;5;28mself\u001b[39m\u001b[38;5;241m.\u001b[39m_values[loc]\n",
      "File \u001b[1;32mc:\\Users\\dsshi\\AppData\\Local\\Programs\\Python\\Python311\\Lib\\site-packages\\pandas\\core\\indexes\\base.py:3654\u001b[0m, in \u001b[0;36mIndex.get_loc\u001b[1;34m(self, key)\u001b[0m\n\u001b[0;32m   3652\u001b[0m     \u001b[38;5;28;01mreturn\u001b[39;00m \u001b[38;5;28mself\u001b[39m\u001b[38;5;241m.\u001b[39m_engine\u001b[38;5;241m.\u001b[39mget_loc(casted_key)\n\u001b[0;32m   3653\u001b[0m \u001b[38;5;28;01mexcept\u001b[39;00m \u001b[38;5;167;01mKeyError\u001b[39;00m \u001b[38;5;28;01mas\u001b[39;00m err:\n\u001b[1;32m-> 3654\u001b[0m     \u001b[38;5;28;01mraise\u001b[39;00m \u001b[38;5;167;01mKeyError\u001b[39;00m(key) \u001b[38;5;28;01mfrom\u001b[39;00m \u001b[38;5;21;01merr\u001b[39;00m\n\u001b[0;32m   3655\u001b[0m \u001b[38;5;28;01mexcept\u001b[39;00m \u001b[38;5;167;01mTypeError\u001b[39;00m:\n\u001b[0;32m   3656\u001b[0m     \u001b[38;5;66;03m# If we have a listlike key, _check_indexing_error will raise\u001b[39;00m\n\u001b[0;32m   3657\u001b[0m     \u001b[38;5;66;03m#  InvalidIndexError. Otherwise we fall through and re-raise\u001b[39;00m\n\u001b[0;32m   3658\u001b[0m     \u001b[38;5;66;03m#  the TypeError.\u001b[39;00m\n\u001b[0;32m   3659\u001b[0m     \u001b[38;5;28mself\u001b[39m\u001b[38;5;241m.\u001b[39m_check_indexing_error(key)\n",
      "\u001b[1;31mKeyError\u001b[0m: 'region'"
     ]
    }
   ],
   "source": [
    "from mesa import Agent, Model\n",
    "from mesa.time import RandomActivation\n",
    "import random\n",
    "import numpy as np\n",
    "import pandas as pd\n",
    "\n",
    "class PatientAgent(Agent):\n",
    "    def __init__(self, unique_id, model, age, gender, race, region, health_issues):\n",
    "        super().__init__(unique_id, model)\n",
    "        self.age = age\n",
    "        self.gender = gender\n",
    "        self.race = race\n",
    "        self.region = region\n",
    "        self.health_issues = health_issues\n",
    "        self.consented = False\n",
    "\n",
    "    def step(self):\n",
    "        # Determine consent based on consent rate range\n",
    "        consent_probability = random.uniform(self.model.consent_rate_min, self.model.consent_rate_max)\n",
    "        self.consented = random.random() < consent_probability\n",
    "\n",
    "class RecruitmentModel(Model):\n",
    "    def __init__(self, df, consent_rate_min, consent_rate_max):\n",
    "        self.df = df\n",
    "        self.consent_rate_min = consent_rate_min\n",
    "        self.consent_rate_max = consent_rate_max\n",
    "        self.schedule = RandomActivation(self)\n",
    "\n",
    "        # Create agents based on the DataFrame\n",
    "        for i, row in df.iterrows():\n",
    "            agent = PatientAgent(i, self, row['age'], row['gender'], row['race_ethnicity'], row['region'], row['health_issues'])\n",
    "            self.schedule.add(agent)\n",
    "\n",
    "    def step(self):\n",
    "        self.schedule.step()\n",
    "\n",
    "# Function to run multiple simulations and calculate scores\n",
    "def run_simulations(df, consent_rate_min, consent_rate_max, num_simulations):\n",
    "    consent_results = []\n",
    "    for _ in range(num_simulations):\n",
    "        model = RecruitmentModel(df, consent_rate_min, consent_rate_max)\n",
    "        for _ in range(1):  # Run for 1 step (as we only need to determine consent)\n",
    "            model.step()\n",
    "        consented_agents = sum([1 for agent in model.schedule.agents if agent.consented])\n",
    "        consent_results.append(consented_agents)\n",
    "    \n",
    "    # Calculate statistics\n",
    "    mean_consent = np.mean(consent_results)\n",
    "    confidence_interval = np.std(consent_results) * 1.96 / np.sqrt(num_simulations)\n",
    "    \n",
    "    return {\n",
    "        \"mean_consent\": mean_consent,\n",
    "        \"confidence_interval\": confidence_interval,\n",
    "        \"consent_results\": consent_results\n",
    "    }\n",
    "\n",
    "# Run the simulations\n",
    "consent_rate_min = 0.4\n",
    "consent_rate_max = 0.7\n",
    "num_simulations = 100\n",
    "\n",
    "# Convert Polars DataFrame to Pandas for compatibility with Mesa\n",
    "df_normalized_pd = df_normalized.to_pandas()\n",
    "\n",
    "simulation_results = run_simulations(df_normalized_pd, consent_rate_min, consent_rate_max, num_simulations)\n",
    "\n",
    "# Display results\n",
    "print(f\"Mean Consent: {simulation_results['mean_consent']}\")\n",
    "print(f\"Confidence Interval: +/- {simulation_results['confidence_interval']}\")"
   ]
  },
  {
   "cell_type": "code",
   "execution_count": 13,
   "metadata": {},
   "outputs": [
    {
     "name": "stdout",
     "output_type": "stream",
     "text": [
      "Requirement already satisfied: streamlit in c:\\users\\dsshi\\appdata\\local\\programs\\python\\python311\\lib\\site-packages (1.39.0)\n",
      "Requirement already satisfied: altair<6,>=4.0 in c:\\users\\dsshi\\appdata\\local\\programs\\python\\python311\\lib\\site-packages (from streamlit) (5.4.1)\n",
      "Requirement already satisfied: blinker<2,>=1.0.0 in c:\\users\\dsshi\\appdata\\local\\programs\\python\\python311\\lib\\site-packages (from streamlit) (1.8.2)\n",
      "Requirement already satisfied: cachetools<6,>=4.0 in c:\\users\\dsshi\\appdata\\local\\programs\\python\\python311\\lib\\site-packages (from streamlit) (5.5.0)\n",
      "Requirement already satisfied: click<9,>=7.0 in c:\\users\\dsshi\\appdata\\local\\programs\\python\\python311\\lib\\site-packages (from streamlit) (8.1.7)\n",
      "Requirement already satisfied: numpy<3,>=1.20 in c:\\users\\dsshi\\appdata\\local\\programs\\python\\python311\\lib\\site-packages (from streamlit) (1.24.2)\n",
      "Requirement already satisfied: packaging<25,>=20 in c:\\users\\dsshi\\appdata\\roaming\\python\\python311\\site-packages (from streamlit) (23.1)\n",
      "Requirement already satisfied: pandas<3,>=1.4.0 in c:\\users\\dsshi\\appdata\\local\\programs\\python\\python311\\lib\\site-packages (from streamlit) (2.0.0)\n",
      "Requirement already satisfied: pillow<11,>=7.1.0 in c:\\users\\dsshi\\appdata\\local\\programs\\python\\python311\\lib\\site-packages (from streamlit) (10.4.0)\n",
      "Requirement already satisfied: protobuf<6,>=3.20 in c:\\users\\dsshi\\appdata\\local\\programs\\python\\python311\\lib\\site-packages (from streamlit) (5.28.3)\n",
      "Requirement already satisfied: pyarrow>=7.0 in c:\\users\\dsshi\\appdata\\local\\programs\\python\\python311\\lib\\site-packages (from streamlit) (17.0.0)\n",
      "Requirement already satisfied: requests<3,>=2.27 in c:\\users\\dsshi\\appdata\\local\\programs\\python\\python311\\lib\\site-packages (from streamlit) (2.32.3)\n",
      "Requirement already satisfied: rich<14,>=10.14.0 in c:\\users\\dsshi\\appdata\\local\\programs\\python\\python311\\lib\\site-packages (from streamlit) (13.9.3)\n",
      "Requirement already satisfied: tenacity<10,>=8.1.0 in c:\\users\\dsshi\\appdata\\local\\programs\\python\\python311\\lib\\site-packages (from streamlit) (9.0.0)\n",
      "Requirement already satisfied: toml<2,>=0.10.1 in c:\\users\\dsshi\\appdata\\local\\programs\\python\\python311\\lib\\site-packages (from streamlit) (0.10.2)\n",
      "Requirement already satisfied: typing-extensions<5,>=4.3.0 in c:\\users\\dsshi\\appdata\\local\\programs\\python\\python311\\lib\\site-packages (from streamlit) (4.12.2)\n",
      "Requirement already satisfied: gitpython!=3.1.19,<4,>=3.0.7 in c:\\users\\dsshi\\appdata\\local\\programs\\python\\python311\\lib\\site-packages (from streamlit) (3.1.43)\n",
      "Requirement already satisfied: pydeck<1,>=0.8.0b4 in c:\\users\\dsshi\\appdata\\local\\programs\\python\\python311\\lib\\site-packages (from streamlit) (0.9.1)\n",
      "Requirement already satisfied: tornado<7,>=6.0.3 in c:\\users\\dsshi\\appdata\\roaming\\python\\python311\\site-packages (from streamlit) (6.3)\n",
      "Requirement already satisfied: watchdog<6,>=2.1.5 in c:\\users\\dsshi\\appdata\\local\\programs\\python\\python311\\lib\\site-packages (from streamlit) (5.0.3)\n",
      "Requirement already satisfied: jinja2 in c:\\users\\dsshi\\appdata\\local\\programs\\python\\python311\\lib\\site-packages (from altair<6,>=4.0->streamlit) (3.1.4)\n",
      "Requirement already satisfied: jsonschema>=3.0 in c:\\users\\dsshi\\appdata\\local\\programs\\python\\python311\\lib\\site-packages (from altair<6,>=4.0->streamlit) (4.23.0)\n",
      "Requirement already satisfied: narwhals>=1.5.2 in c:\\users\\dsshi\\appdata\\local\\programs\\python\\python311\\lib\\site-packages (from altair<6,>=4.0->streamlit) (1.10.0)\n",
      "Requirement already satisfied: colorama in c:\\users\\dsshi\\appdata\\roaming\\python\\python311\\site-packages (from click<9,>=7.0->streamlit) (0.4.6)\n",
      "Requirement already satisfied: gitdb<5,>=4.0.1 in c:\\users\\dsshi\\appdata\\local\\programs\\python\\python311\\lib\\site-packages (from gitpython!=3.1.19,<4,>=3.0.7->streamlit) (4.0.11)\n",
      "Requirement already satisfied: python-dateutil>=2.8.2 in c:\\users\\dsshi\\appdata\\roaming\\python\\python311\\site-packages (from pandas<3,>=1.4.0->streamlit) (2.8.2)\n",
      "Requirement already satisfied: pytz>=2020.1 in c:\\users\\dsshi\\appdata\\local\\programs\\python\\python311\\lib\\site-packages (from pandas<3,>=1.4.0->streamlit) (2023.3)\n",
      "Requirement already satisfied: tzdata>=2022.1 in c:\\users\\dsshi\\appdata\\local\\programs\\python\\python311\\lib\\site-packages (from pandas<3,>=1.4.0->streamlit) (2023.3)\n",
      "Requirement already satisfied: charset-normalizer<4,>=2 in c:\\users\\dsshi\\appdata\\local\\programs\\python\\python311\\lib\\site-packages (from requests<3,>=2.27->streamlit) (3.4.0)\n",
      "Requirement already satisfied: idna<4,>=2.5 in c:\\users\\dsshi\\appdata\\local\\programs\\python\\python311\\lib\\site-packages (from requests<3,>=2.27->streamlit) (3.10)\n",
      "Requirement already satisfied: urllib3<3,>=1.21.1 in c:\\users\\dsshi\\appdata\\local\\programs\\python\\python311\\lib\\site-packages (from requests<3,>=2.27->streamlit) (2.2.3)\n",
      "Requirement already satisfied: certifi>=2017.4.17 in c:\\users\\dsshi\\appdata\\local\\programs\\python\\python311\\lib\\site-packages (from requests<3,>=2.27->streamlit) (2024.8.30)\n",
      "Requirement already satisfied: markdown-it-py>=2.2.0 in c:\\users\\dsshi\\appdata\\local\\programs\\python\\python311\\lib\\site-packages (from rich<14,>=10.14.0->streamlit) (3.0.0)\n",
      "Requirement already satisfied: pygments<3.0.0,>=2.13.0 in c:\\users\\dsshi\\appdata\\roaming\\python\\python311\\site-packages (from rich<14,>=10.14.0->streamlit) (2.15.0)\n",
      "Requirement already satisfied: smmap<6,>=3.0.1 in c:\\users\\dsshi\\appdata\\local\\programs\\python\\python311\\lib\\site-packages (from gitdb<5,>=4.0.1->gitpython!=3.1.19,<4,>=3.0.7->streamlit) (5.0.1)\n",
      "Requirement already satisfied: MarkupSafe>=2.0 in c:\\users\\dsshi\\appdata\\local\\programs\\python\\python311\\lib\\site-packages (from jinja2->altair<6,>=4.0->streamlit) (3.0.2)\n",
      "Requirement already satisfied: attrs>=22.2.0 in c:\\users\\dsshi\\appdata\\local\\programs\\python\\python311\\lib\\site-packages (from jsonschema>=3.0->altair<6,>=4.0->streamlit) (24.2.0)\n",
      "Requirement already satisfied: jsonschema-specifications>=2023.03.6 in c:\\users\\dsshi\\appdata\\local\\programs\\python\\python311\\lib\\site-packages (from jsonschema>=3.0->altair<6,>=4.0->streamlit) (2024.10.1)\n",
      "Requirement already satisfied: referencing>=0.28.4 in c:\\users\\dsshi\\appdata\\local\\programs\\python\\python311\\lib\\site-packages (from jsonschema>=3.0->altair<6,>=4.0->streamlit) (0.35.1)\n",
      "Requirement already satisfied: rpds-py>=0.7.1 in c:\\users\\dsshi\\appdata\\local\\programs\\python\\python311\\lib\\site-packages (from jsonschema>=3.0->altair<6,>=4.0->streamlit) (0.20.0)\n",
      "Requirement already satisfied: mdurl~=0.1 in c:\\users\\dsshi\\appdata\\local\\programs\\python\\python311\\lib\\site-packages (from markdown-it-py>=2.2.0->rich<14,>=10.14.0->streamlit) (0.1.2)\n",
      "Requirement already satisfied: six>=1.5 in c:\\users\\dsshi\\appdata\\roaming\\python\\python311\\site-packages (from python-dateutil>=2.8.2->pandas<3,>=1.4.0->streamlit) (1.16.0)\n",
      "Note: you may need to restart the kernel to use updated packages.\n"
     ]
    },
    {
     "name": "stderr",
     "output_type": "stream",
     "text": [
      "\n",
      "[notice] A new release of pip available: 22.3.1 -> 24.2\n",
      "[notice] To update, run: python.exe -m pip install --upgrade pip\n"
     ]
    }
   ],
   "source": [
    "pip install streamlit"
   ]
  },
  {
   "cell_type": "code",
   "execution_count": 16,
   "metadata": {},
   "outputs": [
    {
     "name": "stdout",
     "output_type": "stream",
     "text": [
      "Writing app.py\n"
     ]
    }
   ],
   "source": [
    "%%writefile app.py\n",
    "\n",
    "import streamlit as st\n",
    "import pandas as pd\n",
    "import polars as pl\n",
    "import json\n",
    "from mesa import Agent, Model\n",
    "from mesa.time import RandomActivation\n",
    "import random\n",
    "import numpy as np\n",
    "\n",
    "# Load JSON mapping\n",
    "column_mapping = {\n",
    "  \"age\": [\"Age\", \"age\", \"dob\"],\n",
    "  \"gender\": [\"Gender\", \"sex\", \"Sex\"],\n",
    "  \"race_ethnicity\": [\"Race\", \"Ethnicity\", \"race_ethnicity\", \"race\", \"race:AfricanAmerican\", \"race:Asian\", \"race:Caucasian\", \"race:Hispanic\", \"race:Other\"],\n",
    "  \"region\": [\"Location\", \"region\", \"Region\"],\n",
    "  \"health_issues\": [\"Conditions\", \"health_conditions\", \"Issues\", \"hypertension\", \"heart_disease\"]\n",
    "}\n",
    "\n",
    "# Function to normalize columns\n",
    "def normalize_columns(df, mapping):\n",
    "    for standard_name, possible_names in mapping.items():\n",
    "        for col in possible_names:\n",
    "            if col in df.columns:\n",
    "                df = df.rename({col: standard_name})\n",
    "                break\n",
    "    return df\n",
    "\n",
    "class PatientAgent(Agent):\n",
    "    def __init__(self, unique_id, model, age, gender, race, region, health_issues):\n",
    "        super().__init__(unique_id, model)\n",
    "        self.age = age\n",
    "        self.gender = gender\n",
    "        self.race = race\n",
    "        self.region = region\n",
    "        self.health_issues = health_issues\n",
    "        self.consented = False\n",
    "\n",
    "    def step(self):\n",
    "        # Determine consent based on consent rate range\n",
    "        consent_probability = random.uniform(self.model.consent_rate_min, self.model.consent_rate_max)\n",
    "        self.consented = random.random() < consent_probability\n",
    "\n",
    "class RecruitmentModel(Model):\n",
    "    def __init__(self, df, consent_rate_min, consent_rate_max):\n",
    "        self.df = df\n",
    "        self.consent_rate_min = consent_rate_min\n",
    "        self.consent_rate_max = consent_rate_max\n",
    "        self.schedule = RandomActivation(self)\n",
    "\n",
    "        # Create agents based on the DataFrame\n",
    "        for i, row in df.iterrows():\n",
    "            agent = PatientAgent(i, self, row['age'], row['gender'], row['race_ethnicity'], row['region'], row['health_issues'])\n",
    "            self.schedule.add(agent)\n",
    "\n",
    "    def step(self):\n",
    "        self.schedule.step()\n",
    "\n",
    "# Streamlit App Configuration\n",
    "st.set_page_config(page_title=\"Patient Recruitment Simulation\", layout=\"wide\")\n",
    "\n",
    "st.title(\"Patient Recruitment Simulation\")\n",
    "\n",
    "# File uploader\n",
    "data_file = st.file_uploader(\"Upload Data File\", type=[\"csv\", \"tsv\"])\n",
    "\n",
    "if data_file is not None:\n",
    "    df = pl.read_csv(data_file)\n",
    "    df_normalized = normalize_columns(df, column_mapping)\n",
    "    st.write(\"Data Preview:\", df_normalized.head().to_pandas())\n",
    "\n",
    "    # Inputs for simulation\n",
    "    consent_rate_min = st.slider(\"Consent Rate Minimum\", 0.0, 1.0, 0.4)\n",
    "    consent_rate_max = st.slider(\"Consent Rate Maximum\", 0.0, 1.0, 0.7)\n",
    "    num_simulations = st.number_input(\"Number of Simulations\", min_value=1, max_value=500, value=100)\n",
    "\n",
    "    if st.button(\"Run Simulation\"):\n",
    "        # Convert Polars DataFrame to Pandas for compatibility with Mesa\n",
    "        df_normalized_pd = df_normalized.to_pandas()\n",
    "        \n",
    "        # Run the simulations\n",
    "        simulation_results = run_simulations(df_normalized_pd, consent_rate_min, consent_rate_max, num_simulations)\n",
    "        \n",
    "        # Display results\n",
    "        st.write(f\"Mean Consent: {simulation_results['mean_consent']}\")\n",
    "        st.write(f\"Confidence Interval: +/- {simulation_results['confidence_interval']}\")"
   ]
  },
  {
   "cell_type": "code",
   "execution_count": 21,
   "metadata": {},
   "outputs": [
    {
     "name": "stdout",
     "output_type": "stream",
     "text": [
      "\n",
      "up to date, audited 23 packages in 418ms\n",
      "\n",
      "3 packages are looking for funding\n",
      "  run `npm fund` for details\n",
      "\n",
      "2 moderate severity vulnerabilities\n",
      "\n",
      "To address all issues (including breaking changes), run:\n",
      "  npm audit fix --force\n",
      "\n",
      "Run `npm audit` for details.\n"
     ]
    }
   ],
   "source": [
    "\n",
    "!npm install localtunnel"
   ]
  },
  {
   "cell_type": "code",
   "execution_count": 22,
   "metadata": {},
   "outputs": [
    {
     "name": "stderr",
     "output_type": "stream",
     "text": [
      "& was unexpected at this time.\n"
     ]
    }
   ],
   "source": [
    "!streamlit run app.py &>/content/logs.txt & npx localtunnel --port 8000 & curl ipv4.icanhazip.com"
   ]
  },
  {
   "cell_type": "code",
   "execution_count": 25,
   "metadata": {},
   "outputs": [
    {
     "name": "stdout",
     "output_type": "stream",
     "text": [
      "Requirement already satisfied: ngrok in c:\\users\\dsshi\\appdata\\local\\programs\\python\\python311\\lib\\site-packages (1.4.0)Note: you may need to restart the kernel to use updated packages.\n"
     ]
    },
    {
     "name": "stderr",
     "output_type": "stream",
     "text": [
      "\n",
      "[notice] A new release of pip available: 22.3.1 -> 24.2\n",
      "[notice] To update, run: python.exe -m pip install --upgrade pip\n"
     ]
    },
    {
     "name": "stdout",
     "output_type": "stream",
     "text": [
      "\n"
     ]
    }
   ],
   "source": [
    "pip install ngrok"
   ]
  },
  {
   "cell_type": "code",
   "execution_count": 26,
   "metadata": {},
   "outputs": [
    {
     "name": "stdout",
     "output_type": "stream",
     "text": [
      "Requirement already satisfied: streamlit in c:\\users\\dsshi\\appdata\\local\\programs\\python\\python311\\lib\\site-packages (1.39.0)\n",
      "Requirement already satisfied: altair<6,>=4.0 in c:\\users\\dsshi\\appdata\\local\\programs\\python\\python311\\lib\\site-packages (from streamlit) (5.4.1)\n",
      "Requirement already satisfied: blinker<2,>=1.0.0 in c:\\users\\dsshi\\appdata\\local\\programs\\python\\python311\\lib\\site-packages (from streamlit) (1.8.2)\n",
      "Requirement already satisfied: cachetools<6,>=4.0 in c:\\users\\dsshi\\appdata\\local\\programs\\python\\python311\\lib\\site-packages (from streamlit) (5.5.0)\n",
      "Requirement already satisfied: click<9,>=7.0 in c:\\users\\dsshi\\appdata\\local\\programs\\python\\python311\\lib\\site-packages (from streamlit) (8.1.7)\n",
      "Requirement already satisfied: numpy<3,>=1.20 in c:\\users\\dsshi\\appdata\\local\\programs\\python\\python311\\lib\\site-packages (from streamlit) (1.24.2)\n",
      "Requirement already satisfied: packaging<25,>=20 in c:\\users\\dsshi\\appdata\\roaming\\python\\python311\\site-packages (from streamlit) (23.1)\n",
      "Requirement already satisfied: pandas<3,>=1.4.0 in c:\\users\\dsshi\\appdata\\local\\programs\\python\\python311\\lib\\site-packages (from streamlit) (2.0.0)\n",
      "Requirement already satisfied: pillow<11,>=7.1.0 in c:\\users\\dsshi\\appdata\\local\\programs\\python\\python311\\lib\\site-packages (from streamlit) (10.4.0)\n",
      "Requirement already satisfied: protobuf<6,>=3.20 in c:\\users\\dsshi\\appdata\\local\\programs\\python\\python311\\lib\\site-packages (from streamlit) (5.28.3)\n",
      "Requirement already satisfied: pyarrow>=7.0 in c:\\users\\dsshi\\appdata\\local\\programs\\python\\python311\\lib\\site-packages (from streamlit) (17.0.0)\n",
      "Requirement already satisfied: requests<3,>=2.27 in c:\\users\\dsshi\\appdata\\local\\programs\\python\\python311\\lib\\site-packages (from streamlit) (2.32.3)\n",
      "Requirement already satisfied: rich<14,>=10.14.0 in c:\\users\\dsshi\\appdata\\local\\programs\\python\\python311\\lib\\site-packages (from streamlit) (13.9.3)\n",
      "Requirement already satisfied: tenacity<10,>=8.1.0 in c:\\users\\dsshi\\appdata\\local\\programs\\python\\python311\\lib\\site-packages (from streamlit) (9.0.0)\n",
      "Requirement already satisfied: toml<2,>=0.10.1 in c:\\users\\dsshi\\appdata\\local\\programs\\python\\python311\\lib\\site-packages (from streamlit) (0.10.2)\n",
      "Requirement already satisfied: typing-extensions<5,>=4.3.0 in c:\\users\\dsshi\\appdata\\local\\programs\\python\\python311\\lib\\site-packages (from streamlit) (4.12.2)\n",
      "Requirement already satisfied: gitpython!=3.1.19,<4,>=3.0.7 in c:\\users\\dsshi\\appdata\\local\\programs\\python\\python311\\lib\\site-packages (from streamlit) (3.1.43)\n",
      "Requirement already satisfied: pydeck<1,>=0.8.0b4 in c:\\users\\dsshi\\appdata\\local\\programs\\python\\python311\\lib\\site-packages (from streamlit) (0.9.1)\n",
      "Requirement already satisfied: tornado<7,>=6.0.3 in c:\\users\\dsshi\\appdata\\roaming\\python\\python311\\site-packages (from streamlit) (6.3)\n",
      "Requirement already satisfied: watchdog<6,>=2.1.5 in c:\\users\\dsshi\\appdata\\local\\programs\\python\\python311\\lib\\site-packages (from streamlit) (5.0.3)\n",
      "Requirement already satisfied: jinja2 in c:\\users\\dsshi\\appdata\\local\\programs\\python\\python311\\lib\\site-packages (from altair<6,>=4.0->streamlit) (3.1.4)\n",
      "Requirement already satisfied: jsonschema>=3.0 in c:\\users\\dsshi\\appdata\\local\\programs\\python\\python311\\lib\\site-packages (from altair<6,>=4.0->streamlit) (4.23.0)\n",
      "Requirement already satisfied: narwhals>=1.5.2 in c:\\users\\dsshi\\appdata\\local\\programs\\python\\python311\\lib\\site-packages (from altair<6,>=4.0->streamlit) (1.10.0)\n",
      "Requirement already satisfied: colorama in c:\\users\\dsshi\\appdata\\roaming\\python\\python311\\site-packages (from click<9,>=7.0->streamlit) (0.4.6)\n",
      "Requirement already satisfied: gitdb<5,>=4.0.1 in c:\\users\\dsshi\\appdata\\local\\programs\\python\\python311\\lib\\site-packages (from gitpython!=3.1.19,<4,>=3.0.7->streamlit) (4.0.11)\n",
      "Requirement already satisfied: python-dateutil>=2.8.2 in c:\\users\\dsshi\\appdata\\roaming\\python\\python311\\site-packages (from pandas<3,>=1.4.0->streamlit) (2.8.2)\n",
      "Requirement already satisfied: pytz>=2020.1 in c:\\users\\dsshi\\appdata\\local\\programs\\python\\python311\\lib\\site-packages (from pandas<3,>=1.4.0->streamlit) (2023.3)\n",
      "Requirement already satisfied: tzdata>=2022.1 in c:\\users\\dsshi\\appdata\\local\\programs\\python\\python311\\lib\\site-packages (from pandas<3,>=1.4.0->streamlit) (2023.3)\n",
      "Requirement already satisfied: charset-normalizer<4,>=2 in c:\\users\\dsshi\\appdata\\local\\programs\\python\\python311\\lib\\site-packages (from requests<3,>=2.27->streamlit) (3.4.0)\n",
      "Requirement already satisfied: idna<4,>=2.5 in c:\\users\\dsshi\\appdata\\local\\programs\\python\\python311\\lib\\site-packages (from requests<3,>=2.27->streamlit) (3.10)\n",
      "Requirement already satisfied: urllib3<3,>=1.21.1 in c:\\users\\dsshi\\appdata\\local\\programs\\python\\python311\\lib\\site-packages (from requests<3,>=2.27->streamlit) (2.2.3)\n",
      "Requirement already satisfied: certifi>=2017.4.17 in c:\\users\\dsshi\\appdata\\local\\programs\\python\\python311\\lib\\site-packages (from requests<3,>=2.27->streamlit) (2024.8.30)\n",
      "Requirement already satisfied: markdown-it-py>=2.2.0 in c:\\users\\dsshi\\appdata\\local\\programs\\python\\python311\\lib\\site-packages (from rich<14,>=10.14.0->streamlit) (3.0.0)\n",
      "Requirement already satisfied: pygments<3.0.0,>=2.13.0 in c:\\users\\dsshi\\appdata\\roaming\\python\\python311\\site-packages (from rich<14,>=10.14.0->streamlit) (2.15.0)\n",
      "Requirement already satisfied: smmap<6,>=3.0.1 in c:\\users\\dsshi\\appdata\\local\\programs\\python\\python311\\lib\\site-packages (from gitdb<5,>=4.0.1->gitpython!=3.1.19,<4,>=3.0.7->streamlit) (5.0.1)\n",
      "Requirement already satisfied: MarkupSafe>=2.0 in c:\\users\\dsshi\\appdata\\local\\programs\\python\\python311\\lib\\site-packages (from jinja2->altair<6,>=4.0->streamlit) (3.0.2)\n",
      "Requirement already satisfied: attrs>=22.2.0 in c:\\users\\dsshi\\appdata\\local\\programs\\python\\python311\\lib\\site-packages (from jsonschema>=3.0->altair<6,>=4.0->streamlit) (24.2.0)\n",
      "Requirement already satisfied: jsonschema-specifications>=2023.03.6 in c:\\users\\dsshi\\appdata\\local\\programs\\python\\python311\\lib\\site-packages (from jsonschema>=3.0->altair<6,>=4.0->streamlit) (2024.10.1)\n",
      "Requirement already satisfied: referencing>=0.28.4 in c:\\users\\dsshi\\appdata\\local\\programs\\python\\python311\\lib\\site-packages (from jsonschema>=3.0->altair<6,>=4.0->streamlit) (0.35.1)\n",
      "Requirement already satisfied: rpds-py>=0.7.1 in c:\\users\\dsshi\\appdata\\local\\programs\\python\\python311\\lib\\site-packages (from jsonschema>=3.0->altair<6,>=4.0->streamlit) (0.20.0)\n",
      "Requirement already satisfied: mdurl~=0.1 in c:\\users\\dsshi\\appdata\\local\\programs\\python\\python311\\lib\\site-packages (from markdown-it-py>=2.2.0->rich<14,>=10.14.0->streamlit) (0.1.2)\n",
      "Requirement already satisfied: six>=1.5 in c:\\users\\dsshi\\appdata\\roaming\\python\\python311\\site-packages (from python-dateutil>=2.8.2->pandas<3,>=1.4.0->streamlit) (1.16.0)\n",
      "Note: you may need to restart the kernel to use updated packages.\n"
     ]
    },
    {
     "name": "stderr",
     "output_type": "stream",
     "text": [
      "\n",
      "[notice] A new release of pip available: 22.3.1 -> 24.2\n",
      "[notice] To update, run: python.exe -m pip install --upgrade pip\n"
     ]
    }
   ],
   "source": [
    "pip install streamlit"
   ]
  },
  {
   "cell_type": "code",
   "execution_count": 30,
   "metadata": {},
   "outputs": [
    {
     "name": "stdout",
     "output_type": "stream",
     "text": [
      "Requirement already satisfied: pyngrok in c:\\users\\dsshi\\appdata\\local\\programs\\python\\python311\\lib\\site-packages (7.2.0)\n",
      "Requirement already satisfied: PyYAML>=5.1 in c:\\users\\dsshi\\appdata\\local\\programs\\python\\python311\\lib\\site-packages (from pyngrok) (6.0.2)\n",
      "Downloading ngrok ...\r"
     ]
    },
    {
     "name": "stderr",
     "output_type": "stream",
     "text": [
      "\n",
      "[notice] A new release of pip available: 22.3.1 -> 24.2\n",
      "[notice] To update, run: python.exe -m pip install --upgrade pip\n"
     ]
    },
    {
     "name": "stdout",
     "output_type": "stream",
     "text": [
      "                                                                                                    \r"
     ]
    },
    {
     "name": "stderr",
     "output_type": "stream",
     "text": [
      "t=2024-10-26T15:33:31-0400 lvl=eror msg=\"failed to reconnect session\" obj=tunnels.session err=\"authentication failed: Usage of ngrok requires a verified account and authtoken.\\n\\nSign up for an account: https://dashboard.ngrok.com/signup\\nInstall your authtoken: https://dashboard.ngrok.com/get-started/your-authtoken\\r\\n\\r\\nERR_NGROK_4018\\r\\n\"\n",
      "t=2024-10-26T15:33:31-0400 lvl=eror msg=\"session closing\" obj=tunnels.session err=\"authentication failed: Usage of ngrok requires a verified account and authtoken.\\n\\nSign up for an account: https://dashboard.ngrok.com/signup\\nInstall your authtoken: https://dashboard.ngrok.com/get-started/your-authtoken\\r\\n\\r\\nERR_NGROK_4018\\r\\n\"\n",
      "t=2024-10-26T15:33:31-0400 lvl=eror msg=\"terminating with error\" obj=app err=\"authentication failed: Usage of ngrok requires a verified account and authtoken.\\n\\nSign up for an account: https://dashboard.ngrok.com/signup\\nInstall your authtoken: https://dashboard.ngrok.com/get-started/your-authtoken\\r\\n\\r\\nERR_NGROK_4018\\r\\n\"\n",
      "t=2024-10-26T15:33:31-0400 lvl=crit msg=\"command failed\" err=\"authentication failed: Usage of ngrok requires a verified account and authtoken.\\n\\nSign up for an account: https://dashboard.ngrok.com/signup\\nInstall your authtoken: https://dashboard.ngrok.com/get-started/your-authtoken\\r\\n\\r\\nERR_NGROK_4018\\r\\n\"\n"
     ]
    },
    {
     "ename": "PyngrokNgrokError",
     "evalue": "The ngrok process errored on start: authentication failed: Usage of ngrok requires a verified account and authtoken.\\n\\nSign up for an account: https://dashboard.ngrok.com/signup\\nInstall your authtoken: https://dashboard.ngrok.com/get-started/your-authtoken\\r\\n\\r\\nERR_NGROK_4018\\r\\n.",
     "output_type": "error",
     "traceback": [
      "\u001b[1;31m---------------------------------------------------------------------------\u001b[0m",
      "\u001b[1;31mPyngrokNgrokError\u001b[0m                         Traceback (most recent call last)",
      "Cell \u001b[1;32mIn[30], line 16\u001b[0m\n\u001b[0;32m     13\u001b[0m streamlit_process \u001b[38;5;241m=\u001b[39m subprocess\u001b[38;5;241m.\u001b[39mPopen([\u001b[38;5;124m'\u001b[39m\u001b[38;5;124mstreamlit\u001b[39m\u001b[38;5;124m'\u001b[39m, \u001b[38;5;124m'\u001b[39m\u001b[38;5;124mrun\u001b[39m\u001b[38;5;124m'\u001b[39m, \u001b[38;5;124m'\u001b[39m\u001b[38;5;124mapp.py\u001b[39m\u001b[38;5;124m'\u001b[39m])\n\u001b[0;32m     15\u001b[0m \u001b[38;5;66;03m# Create a tunnel to the Streamlit app\u001b[39;00m\n\u001b[1;32m---> 16\u001b[0m public_url \u001b[38;5;241m=\u001b[39m \u001b[43mngrok\u001b[49m\u001b[38;5;241;43m.\u001b[39;49m\u001b[43mconnect\u001b[49m\u001b[43m(\u001b[49m\u001b[38;5;241;43m8501\u001b[39;49m\u001b[43m)\u001b[49m\n\u001b[0;32m     17\u001b[0m \u001b[38;5;28mprint\u001b[39m(\u001b[38;5;124mf\u001b[39m\u001b[38;5;124m\"\u001b[39m\u001b[38;5;124mPublic URL: \u001b[39m\u001b[38;5;132;01m{\u001b[39;00mpublic_url\u001b[38;5;132;01m}\u001b[39;00m\u001b[38;5;124m\"\u001b[39m)\n",
      "File \u001b[1;32mc:\\Users\\dsshi\\AppData\\Local\\Programs\\Python\\Python311\\Lib\\site-packages\\pyngrok\\ngrok.py:316\u001b[0m, in \u001b[0;36mconnect\u001b[1;34m(addr, proto, name, pyngrok_config, **options)\u001b[0m\n\u001b[0;32m    312\u001b[0m             options[\u001b[38;5;124m\"\u001b[39m\u001b[38;5;124mbasic_auth\u001b[39m\u001b[38;5;124m\"\u001b[39m] \u001b[38;5;241m=\u001b[39m [auth]\n\u001b[0;32m    314\u001b[0m         options\u001b[38;5;241m.\u001b[39mpop(\u001b[38;5;124m\"\u001b[39m\u001b[38;5;124mauth\u001b[39m\u001b[38;5;124m\"\u001b[39m)\n\u001b[1;32m--> 316\u001b[0m api_url \u001b[38;5;241m=\u001b[39m \u001b[43mget_ngrok_process\u001b[49m\u001b[43m(\u001b[49m\u001b[43mpyngrok_config\u001b[49m\u001b[43m)\u001b[49m\u001b[38;5;241m.\u001b[39mapi_url\n\u001b[0;32m    318\u001b[0m logger\u001b[38;5;241m.\u001b[39mdebug(\u001b[38;5;124mf\u001b[39m\u001b[38;5;124m\"\u001b[39m\u001b[38;5;124mCreating tunnel with options: \u001b[39m\u001b[38;5;132;01m{\u001b[39;00moptions\u001b[38;5;132;01m}\u001b[39;00m\u001b[38;5;124m\"\u001b[39m)\n\u001b[0;32m    320\u001b[0m tunnel \u001b[38;5;241m=\u001b[39m NgrokTunnel(api_request(\u001b[38;5;124mf\u001b[39m\u001b[38;5;124m\"\u001b[39m\u001b[38;5;132;01m{\u001b[39;00mapi_url\u001b[38;5;132;01m}\u001b[39;00m\u001b[38;5;124m/api/tunnels\u001b[39m\u001b[38;5;124m\"\u001b[39m, method\u001b[38;5;241m=\u001b[39m\u001b[38;5;124m\"\u001b[39m\u001b[38;5;124mPOST\u001b[39m\u001b[38;5;124m\"\u001b[39m, data\u001b[38;5;241m=\u001b[39moptions,\n\u001b[0;32m    321\u001b[0m                                  timeout\u001b[38;5;241m=\u001b[39mpyngrok_config\u001b[38;5;241m.\u001b[39mrequest_timeout),\n\u001b[0;32m    322\u001b[0m                      pyngrok_config, api_url)\n",
      "File \u001b[1;32mc:\\Users\\dsshi\\AppData\\Local\\Programs\\Python\\Python311\\Lib\\site-packages\\pyngrok\\ngrok.py:156\u001b[0m, in \u001b[0;36mget_ngrok_process\u001b[1;34m(pyngrok_config)\u001b[0m\n\u001b[0;32m    152\u001b[0m     pyngrok_config \u001b[38;5;241m=\u001b[39m conf\u001b[38;5;241m.\u001b[39mget_default()\n\u001b[0;32m    154\u001b[0m install_ngrok(pyngrok_config)\n\u001b[1;32m--> 156\u001b[0m \u001b[38;5;28;01mreturn\u001b[39;00m \u001b[43mprocess\u001b[49m\u001b[38;5;241;43m.\u001b[39;49m\u001b[43mget_process\u001b[49m\u001b[43m(\u001b[49m\u001b[43mpyngrok_config\u001b[49m\u001b[43m)\u001b[49m\n",
      "File \u001b[1;32mc:\\Users\\dsshi\\AppData\\Local\\Programs\\Python\\Python311\\Lib\\site-packages\\pyngrok\\process.py:235\u001b[0m, in \u001b[0;36mget_process\u001b[1;34m(pyngrok_config)\u001b[0m\n\u001b[0;32m    232\u001b[0m \u001b[38;5;28;01mif\u001b[39;00m is_process_running(pyngrok_config\u001b[38;5;241m.\u001b[39mngrok_path):\n\u001b[0;32m    233\u001b[0m     \u001b[38;5;28;01mreturn\u001b[39;00m _current_processes[pyngrok_config\u001b[38;5;241m.\u001b[39mngrok_path]\n\u001b[1;32m--> 235\u001b[0m \u001b[38;5;28;01mreturn\u001b[39;00m \u001b[43m_start_process\u001b[49m\u001b[43m(\u001b[49m\u001b[43mpyngrok_config\u001b[49m\u001b[43m)\u001b[49m\n",
      "File \u001b[1;32mc:\\Users\\dsshi\\AppData\\Local\\Programs\\Python\\Python311\\Lib\\site-packages\\pyngrok\\process.py:398\u001b[0m, in \u001b[0;36m_start_process\u001b[1;34m(pyngrok_config)\u001b[0m\n\u001b[0;32m    395\u001b[0m kill_process(pyngrok_config\u001b[38;5;241m.\u001b[39mngrok_path)\n\u001b[0;32m    397\u001b[0m \u001b[38;5;28;01mif\u001b[39;00m ngrok_process\u001b[38;5;241m.\u001b[39mstartup_error \u001b[38;5;129;01mis\u001b[39;00m \u001b[38;5;129;01mnot\u001b[39;00m \u001b[38;5;28;01mNone\u001b[39;00m:\n\u001b[1;32m--> 398\u001b[0m     \u001b[38;5;28;01mraise\u001b[39;00m PyngrokNgrokError(\u001b[38;5;124mf\u001b[39m\u001b[38;5;124m\"\u001b[39m\u001b[38;5;124mThe ngrok process errored on start: \u001b[39m\u001b[38;5;132;01m{\u001b[39;00mngrok_process\u001b[38;5;241m.\u001b[39mstartup_error\u001b[38;5;132;01m}\u001b[39;00m\u001b[38;5;124m.\u001b[39m\u001b[38;5;124m\"\u001b[39m,\n\u001b[0;32m    399\u001b[0m                             ngrok_process\u001b[38;5;241m.\u001b[39mlogs,\n\u001b[0;32m    400\u001b[0m                             ngrok_process\u001b[38;5;241m.\u001b[39mstartup_error)\n\u001b[0;32m    401\u001b[0m \u001b[38;5;28;01melse\u001b[39;00m:\n\u001b[0;32m    402\u001b[0m     \u001b[38;5;28;01mraise\u001b[39;00m PyngrokNgrokError(\u001b[38;5;124m\"\u001b[39m\u001b[38;5;124mThe ngrok process was unable to start.\u001b[39m\u001b[38;5;124m\"\u001b[39m, ngrok_process\u001b[38;5;241m.\u001b[39mlogs)\n",
      "\u001b[1;31mPyngrokNgrokError\u001b[0m: The ngrok process errored on start: authentication failed: Usage of ngrok requires a verified account and authtoken.\\n\\nSign up for an account: https://dashboard.ngrok.com/signup\\nInstall your authtoken: https://dashboard.ngrok.com/get-started/your-authtoken\\r\\n\\r\\nERR_NGROK_4018\\r\\n."
     ]
    }
   ],
   "source": [
    "# Install necessary packages\n",
    "!pip install pyngrok\n",
    "\n",
    "# Save the Streamlit script to a file\n",
    "with open(\"app.py\", \"w\") as f:\n",
    "    f.write('''<your streamlit code here>''')\n",
    "\n",
    "# Run the Streamlit app and create a public URL using ngrok\n",
    "from pyngrok import ngrok\n",
    "import subprocess\n",
    "\n",
    "# Run the Streamlit app\n",
    "streamlit_process = subprocess.Popen(['streamlit', 'run', 'app.py'])\n",
    "\n",
    "# Create a tunnel to the Streamlit app\n",
    "public_url = ngrok.connect(8501)\n",
    "print(f\"Public URL: {public_url}\")"
   ]
  },
  {
   "cell_type": "code",
   "execution_count": 31,
   "metadata": {},
   "outputs": [
    {
     "ename": "SyntaxError",
     "evalue": "invalid syntax (3737097518.py, line 1)",
     "output_type": "error",
     "traceback": [
      "\u001b[1;36m  Cell \u001b[1;32mIn[31], line 1\u001b[1;36m\u001b[0m\n\u001b[1;33m    streamlit run app.py\u001b[0m\n\u001b[1;37m              ^\u001b[0m\n\u001b[1;31mSyntaxError\u001b[0m\u001b[1;31m:\u001b[0m invalid syntax\n"
     ]
    }
   ],
   "source": [
    "streamlit run app.py"
   ]
  }
 ],
 "metadata": {
  "kernelspec": {
   "display_name": "Python 3",
   "language": "python",
   "name": "python3"
  },
  "language_info": {
   "codemirror_mode": {
    "name": "ipython",
    "version": 3
   },
   "file_extension": ".py",
   "mimetype": "text/x-python",
   "name": "python",
   "nbconvert_exporter": "python",
   "pygments_lexer": "ipython3",
   "version": "3.11.3"
  }
 },
 "nbformat": 4,
 "nbformat_minor": 2
}
